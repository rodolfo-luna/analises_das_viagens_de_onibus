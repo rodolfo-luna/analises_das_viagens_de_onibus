{
  "nbformat": 4,
  "nbformat_minor": 0,
  "metadata": {
    "colab": {
      "name": "Analise de dados de viagens de onibus",
      "provenance": [],
      "collapsed_sections": [],
      "authorship_tag": "ABX9TyPi9+bueSNC/UQ5DNKUDKtX"
    },
    "kernelspec": {
      "name": "python3",
      "display_name": "Python 3"
    },
    "language_info": {
      "name": "python"
    }
  },
  "cells": [
    {
      "cell_type": "markdown",
      "source": [
        "# Funções para gerar o relatório das linhas de ônibus."
      ],
      "metadata": {
        "id": "t8QrwyJ68bXb"
      }
    },
    {
      "cell_type": "markdown",
      "source": [
        "## Funções para tratamento dos dados da operação."
      ],
      "metadata": {
        "id": "XfexApLTiurT"
      }
    },
    {
      "cell_type": "code",
      "source": [
        "import pandas as pd \n",
        "import numpy as np\n",
        "import analises_config as anc\n",
        "import glob\n",
        "from pandas.core.common import flatten"
      ],
      "metadata": {
        "id": "IPr_ghuK5HK0"
      },
      "execution_count": null,
      "outputs": []
    },
    {
      "cell_type": "code",
      "execution_count": null,
      "metadata": {
        "id": "VFpVGuE6TUV-"
      },
      "outputs": [],
      "source": [
        "def abre_csv(arquivo_csv):\n",
        "    '''Renomeia colunas e remove dados duplicados.\n",
        "\n",
        "    :param arquivo_csv: arquivo csv com os dados das viagens de ônibus.\n",
        "    :return: Dataframe com os dados da operação.\n",
        "    '''\n",
        "    df = pd.read_csv(arquivo_csv)\n",
        "    df = df.rename(columns={'1':'Veiculo Ida', '2':'Sai Term Prev', '3':'Sai Term Real', '4':'Cheg Pt Ret Prev',\n",
        "                            '5':'Cheg Pt Ret Real', '6': 'Tempo Ida Prev', '7':'Tempo Ida Real', '8': 'Veiculo Vol',\n",
        "                            '9':'Saida Pt Ret Prev', '10':'Saida Pt Ret Real', '11':'Cheg Term Prev', \n",
        "                            '12':'Cheg Term Real', '13':'Tempo Vol Prev', '14':'Tempo Vol Real'})\n",
        "\n",
        "    df.drop_duplicates(subset=None, keep=\"first\", inplace=True)\n",
        "    \n",
        "    return df"
      ]
    },
    {
      "cell_type": "code",
      "source": [
        "def conta_viagem(linha):\n",
        "    '''Analisa as linhas de dados das viagens e informa a quantidade de viagens realizadas (0, 0,5 ou 1), ou seja, 0 viagem, meia viagem ou viagem completa.\n",
        "\n",
        "    :param linha: Linhas do dataframe com os dados das viagens.\n",
        "    :return: Retorna 0, 0,5 ou 1.\n",
        "    '''\n",
        "    if pd.isnull(linha['Tempo Ida Real']) and pd.isnull(linha['Tempo Vol Real']):\n",
        "        valor = 0\n",
        "    elif pd.notnull(linha['Tempo Ida Real']) and pd.isnull(linha['Tempo Vol Real']):\n",
        "        valor = 0.5\n",
        "    elif pd.isnull(linha['Tempo Ida Real']) and pd.notnull(linha['Tempo Vol Real']):\n",
        "        valor = 0.5\n",
        "    else:\n",
        "        valor = 1\n",
        "    return valor"
      ],
      "metadata": {
        "id": "Yb0kryR9TnB_"
      },
      "execution_count": null,
      "outputs": []
    },
    {
      "cell_type": "code",
      "source": [
        "def cria_relatorio_veiculos(df):\n",
        "    '''Conta a quantidade de veículos por linha, empresa e data. O que não for identificação de veículo na coluna 'Veiculo ida' é eliminado.\n",
        "    \n",
        "    :param df: Dataframe com os dados das viagens.\n",
        "    :return: Retorna a contagem de veículos por linha, empresa e data.\n",
        "    '''\n",
        "    df['Veiculo Ida'] = pd.to_numeric(df['Veiculo Ida'], errors='coerce')\n",
        "    df = df[df['Veiculo Ida'].notna()]    \n",
        "    relatorio_veic = df.groupby(['Data','Empresa','Linha'])['Veiculo Ida'].nunique().reset_index(name='Qtd veículos')\n",
        "\n",
        "    return relatorio_veic"
      ],
      "metadata": {
        "id": "5DMaxGl-Ty91"
      },
      "execution_count": null,
      "outputs": []
    },
    {
      "cell_type": "code",
      "source": [
        "def cria_relatorio_viagens(df):\n",
        "    '''Conta as viagens.\n",
        "    \n",
        "    :param df: Dataframe com os dados das viagens.\n",
        "    :return: Retorna a contagem de viagens. \n",
        "    '''\n",
        "    relatorio_viag = df.groupby(['Data','Empresa','Linha'])['contador_viagens'].sum().reset_index(name='Qtd viagens')\n",
        "\n",
        "    return relatorio_viag"
      ],
      "metadata": {
        "id": "OfIDM4i5YR8D"
      },
      "execution_count": null,
      "outputs": []
    },
    {
      "cell_type": "code",
      "source": [
        "def renomeia_linhas(df):\n",
        "    '''Extrai o código da linha da coluna \"Linha\".\n",
        "\n",
        "    :param df: Recebe o dataframe.\n",
        "    :return: Retorna o dataframe com a extração do código da linha da coluna \"Linha\", reescrevendo a mesma.\n",
        "    '''\n",
        "    df['Linha'] = df['Linha'].str[0:4]\n",
        "    df['Linha'] = df['Linha'].str.strip()\n",
        "\n",
        "    return df"
      ],
      "metadata": {
        "id": "7We9Tm2FYV5c"
      },
      "execution_count": null,
      "outputs": []
    },
    {
      "cell_type": "code",
      "source": [
        "def renomeia_empresas(df):\n",
        "    '''Substitui os dados da coluna \"Empresa\" de acordo com o dicionário.\n",
        "\n",
        "    :param df: Recebe o dataframe.\n",
        "    :return: Retorna o dataframe com os códigos das empresas na coluna \"Empresa\" substituídos de acordo com o dicionário.\n",
        "    '''\n",
        "    df['Empresa'].replace(anc.dicionario_de_nomes_empresas, inplace=True)\n",
        "\n",
        "    return df"
      ],
      "metadata": {
        "id": "bR7SPd0mZyBm"
      },
      "execution_count": null,
      "outputs": []
    },
    {
      "cell_type": "code",
      "source": [
        "def substitui_nomes_de_linhas_errados(df):\n",
        "    '''Substitui os códigos das linhas que estão errados na coluna \"Linha\".\n",
        "\n",
        "    :param df: Recebe o dataframe da operação.\n",
        "    :return: Retorna o dataframe com os códigos da coluna \"Linha\", que estão errados, substituídos\n",
        "    '''\n",
        "    df['Linha'].replace(anc.dicionario_de_linhas_erradas, inplace=True)\n",
        "\n",
        "    return df"
      ],
      "metadata": {
        "id": "UI1rW9eFeI15"
      },
      "execution_count": null,
      "outputs": []
    },
    {
      "cell_type": "code",
      "source": [
        "def remove_zeros_a_esquerda(relatorio):\n",
        "    '''Remove os zeros a esquerda.\n",
        "\n",
        "    :param relatorio: Dataframe com o relatório da operação.\n",
        "    :return: Retorna o dataframe com os zeros a esquerda da coluna \"Linha\", removidos.\n",
        "    '''\n",
        "\n",
        "    relatorio['Linha'] = relatorio['Linha'].apply(lambda x: x.lstrip('0'))\n",
        "\n",
        "    return relatorio"
      ],
      "metadata": {
        "id": "9ul7izNUkADp"
      },
      "execution_count": null,
      "outputs": []
    },
    {
      "cell_type": "code",
      "source": [
        "def remove_colunas(operacao):\n",
        "    '''Remove as colunas que não serão utilizadas (Vindas dos arquivos txt).\n",
        "\n",
        "    :param operacao: Dataframe com os dados da operação.\n",
        "    :return: Retorna o mesmo dataframe mas sem as colunas que não serão utilizadas.\n",
        "    '''\n",
        "\n",
        "    operacao = operacao.drop(relatorio_operacao.columns[[3, 4, 5, 6, 7, 10, 11, 12, 13, 14]], axis=1) \n",
        "\n",
        "    return operacao"
      ],
      "metadata": {
        "id": "xS-9Ly3tpJdq"
      },
      "execution_count": null,
      "outputs": []
    },
    {
      "cell_type": "code",
      "source": [
        "def remove_linhas_sem_acesso(operacao):\n",
        "    '''Remove as linhas de ônibus que não temos acesso.\n",
        "\n",
        "    :param operacao: Dataframe com o relatório da operação.\n",
        "    :return: Retorna o mesmo dataframe sem as linhas que não temos acesso.\n",
        "    '''\n",
        "    operacao = operacao[~operacao['Empresa'].isin(anc.sem_acesso)]\n",
        "\n",
        "    return operacao"
      ],
      "metadata": {
        "id": "ID9yt7bUp6A3"
      },
      "execution_count": null,
      "outputs": []
    },
    {
      "cell_type": "markdown",
      "source": [
        "## Funções para tratamento dos dados da programação."
      ],
      "metadata": {
        "id": "VJ27VxIxip85"
      }
    },
    {
      "cell_type": "code",
      "source": [
        "def limpa_arquivo_programacao(df):\n",
        "    '''Faz o tratamento dos dados da programação.\n",
        "\n",
        "    :param df: Dataframe com o arquivo da programação.\n",
        "    :return: Retorna o dataframe sem os valores nulos e outros valores da coluna Empresa e data, bem como sem os pontos nos códigos das linhas.\n",
        "    '''\n",
        "    df = df[df['Empresa'] != 'Empresa']\n",
        "    df = df[df['Empresa'] != 'GERAL']\n",
        "    df = df[df['Data'].notna()]\n",
        "    df['Linha'] = df['Linha'].astype(str).str.split('.').str[0]\n",
        "    \n",
        "    return df"
      ],
      "metadata": {
        "id": "mHIJSLxKe1li"
      },
      "execution_count": null,
      "outputs": []
    },
    {
      "cell_type": "code",
      "source": [
        "def cria_relatorio_da_operacao(programacao, relatorio):\n",
        "    '''Funde os dataframes da programação e da operação.\n",
        "\n",
        "    :param programacao: Dataframe com os dados da programação.\n",
        "    :param relatorio: Dataframe com os dados do relatório da operação.\n",
        "    :return: Retorna um dataframe resultado da fusão dos dois anteriores.\n",
        "    '''\n",
        "    programacao['Linha'] = programacao['Linha'].astype(str)\n",
        "    relatorio_op = pd.merge(programacao, relatorio,  how='left', left_on=['Data','Empresa', 'Linha'], right_on = ['Data','Empresa', 'Linha'])\n",
        "\n",
        "    return relatorio_op"
      ],
      "metadata": {
        "id": "MQ8BYEM9imGr"
      },
      "execution_count": null,
      "outputs": []
    },
    {
      "cell_type": "code",
      "source": [
        "def ordena_colunas(relatorio):\n",
        "    '''Ordena as colunas.\n",
        "\n",
        "    :param relatorio: Dataframe com relatório resultado da fusão da programação com operação.\n",
        "    :return: Retorna o mesmo dataframe com as colunas ordenadas.\n",
        "    '''\n",
        "    relatorio_organizado = relatorio[['Data', 'Empresa', 'Linha', 'Viagens Programadas', 'Viagens realizadas', 'Porcentagem de viagens', \n",
        "                                    'Veiculos Programados', 'Veiculos em operacao', 'Porcentagem de veiculos']]\n",
        "    return relatorio_organizado"
      ],
      "metadata": {
        "id": "FornKjrKkry7"
      },
      "execution_count": null,
      "outputs": []
    },
    {
      "cell_type": "code",
      "source": [
        "def reduz_frota_operando_ao_programado(relatorio):\n",
        "    '''Verifica se a frota em operação é maior que a programada e caso positivo, altera o valor deixando igual ao programado.\n",
        "\n",
        "    :param relatorio: Dataframe com relatório resultado da fusão da programação com operação.\n",
        "    :return: Retorna o dataframe com os valores de frota em operação reduzidos conforme programação.\n",
        "    '''\n",
        "    relatorio['Veiculos em operacao'].loc[(relatorio['Veiculos em operacao'].astype('int') > relatorio['Veiculos Programados'].astype('int'))] = \\\n",
        "        relatorio['Veiculos Programados']\n",
        "\n",
        "    return relatorio"
      ],
      "metadata": {
        "id": "5o5g8EehlQ8h"
      },
      "execution_count": null,
      "outputs": []
    },
    {
      "cell_type": "code",
      "source": [
        "def reduz_viagens_realizadas_ao_programado(relatorio):\n",
        "    '''Verifica se as viagens realizadas são maiores que as programadas e caso positivo, altera o valor deixando igual ao\n",
        "    programado.\n",
        "\n",
        "    :param relatorio: Dataframe com relatório resultado da fusão da programação com operação.\n",
        "    :return: Retorna o dataframe com os valores de viagens realizadas reduzidos conforme programação.\n",
        "    '''\n",
        "    relatorio['Viagens realizadas'].loc[(relatorio['Viagens realizadas'].astype('float') > relatorio['Viagens Programadas'].astype('float'))] = \\\n",
        "        relatorio['Viagens Programadas']\n",
        "\n",
        "    return relatorio"
      ],
      "metadata": {
        "id": "ZKq6rCv5l1e4"
      },
      "execution_count": null,
      "outputs": []
    },
    {
      "cell_type": "code",
      "source": [
        "def abre_arquivo_das_programacoes():\n",
        "    '''Carrega os dados de programação dos arquivos txt.\n",
        "\n",
        "    :return: Dataframe com os dados dos arquivos de programação.\n",
        "    '''\n",
        "    l = [pd.read_csv(filename) for filename in glob.glob(anc.pasta_dados_de_programacao)]\n",
        "    programacao = pd.concat(l, axis=0)\n",
        "    programacao = limpa_arquivo_programacao(programacao)\n",
        "\n",
        "    return programacao"
      ],
      "metadata": {
        "id": "dhqKrweHnMmU"
      },
      "execution_count": null,
      "outputs": []
    },
    {
      "cell_type": "code",
      "source": [
        "def renomeia_colunas_do_relatorio(operacao):\n",
        "    '''Renomeia as colunas do dataframe do relatório.\n",
        "\n",
        "    :param relatorio: Dataframe com o relatório da operação.\n",
        "    :return: Retorna o mesmo dataframe com as colunas renomeadas.\n",
        "    '''\n",
        "    operacao = operacao.rename(columns={'Viag.':'Viagens Programadas', 'Veíc.':'Veiculos Programados', \n",
        "                                                'Qtd veículos':'Veiculos em operacao', 'Qtd viagens': 'Viagens realizadas'})\n",
        "\n",
        "    return operacao"
      ],
      "metadata": {
        "id": "P1mFK8R1n44h"
      },
      "execution_count": null,
      "outputs": []
    },
    {
      "cell_type": "code",
      "source": [
        "def substitui_virgula_por_ponto(operacao):\n",
        "    '''Substitui as vírgulas por ponto da coluna Viagens Programadas.\n",
        "\n",
        "    :param operacao: Dataframe com o relatório da operação.\n",
        "    :return: Retorna o mesmo dataframe com as substituições.\n",
        "    '''\n",
        "    operacao['Viagens Programadas'] = operacao['Viagens Programadas'].apply(lambda x: x.replace(',','.'))\n",
        "\n",
        "    return operacao"
      ],
      "metadata": {
        "id": "sODcBLSFq_xU"
      },
      "execution_count": null,
      "outputs": []
    },
    {
      "cell_type": "code",
      "source": [
        "def substitui_nulos_por_zero(operacao, coluna):\n",
        "    '''Substitui os valores NAN da coluna recebida por parâmetro, pelo valor 0.\n",
        "\n",
        "    :param operacao: Dataframe com o relatório.\n",
        "    :param coluna: Nome da coluna do dataframe.\n",
        "    :return: Retorna o mesmo dataframe com os valores da coluna que forem NAN substituídos por 0.\n",
        "    '''\n",
        "    operacao[coluna] = operacao[coluna].fillna(0)\n",
        "\n",
        "    return operacao"
      ],
      "metadata": {
        "id": "rSXu7agfreUy"
      },
      "execution_count": null,
      "outputs": []
    },
    {
      "cell_type": "markdown",
      "source": [
        "#Funções para gerar os relatórios consolidados por empresa."
      ],
      "metadata": {
        "id": "SjHRpF6MuquK"
      }
    },
    {
      "cell_type": "code",
      "source": [
        "def cria_coluna_com_veiculos_efetivos(df):\n",
        "    '''Remove os dados da coluna \"Veiculo ida\" que não são códigos dos ônibus (SCOM, VNRC, etc)\n",
        "\n",
        "    :param df: Dataframe com os dados das viagens.\n",
        "    :return: retorna o mesmo dataframe contendo somente os veículos da coluna \"Veiculo ida\"(Remove SCOM, VNRC ...).\n",
        "    '''\n",
        "    df['Veiculo Ida'] = pd.to_numeric(df['Veiculo Ida'], errors='coerce').astype(pd.Int64Dtype())\n",
        "\n",
        "    return df"
      ],
      "metadata": {
        "id": "AS9tmkxxu0Ux"
      },
      "execution_count": null,
      "outputs": []
    },
    {
      "cell_type": "code",
      "source": [
        "def cria_dataframe_com_listas_de_veiculos(df_gps):\n",
        "    '''Cria um dataframe incluindo a lista de veículos que operaram(Com repetição).\n",
        "\n",
        "    :param df_gps: Dataframe com os dados das viagens.\n",
        "    :return: Retorna um dataframe incluindo a lista de veículos que operaram(Com repetição).\n",
        "    '''\n",
        "    dados_com_lista = df_gps.groupby(['Data', 'Empresa', 'Linha'])['Veiculo Ida'].apply(list).reset_index(name='Listas veiculos')\n",
        "\n",
        "    return dados_com_lista"
      ],
      "metadata": {
        "id": "Kq5c6VtLuEco"
      },
      "execution_count": null,
      "outputs": []
    },
    {
      "cell_type": "code",
      "source": [
        "def remove_veiculos_repetidos(df_relatorio):\n",
        "    '''Remove veículos repetidos na lista.\n",
        "\n",
        "    :param df_relatorio: Dataframe com os dados incluindo as listas de veículos.\n",
        "    :return: Retorna o mesmo dataframe, onde os veículos repetidos na lista foram removidos.\n",
        "    '''\n",
        "    for indice, linha in df_relatorio.iterrows():\n",
        "        lista_atual = df_relatorio.loc[indice, 'Listas veiculos']\n",
        "        lista = [valor for valor in lista_atual if str(valor).isnumeric()]\n",
        "        lista = list(dict.fromkeys(lista))\n",
        "        df_relatorio.loc[indice, 'Listas veiculos'] = lista\n",
        "\n",
        "    return df_relatorio"
      ],
      "metadata": {
        "id": "dYqD-A_8vyxI"
      },
      "execution_count": null,
      "outputs": []
    },
    {
      "cell_type": "code",
      "source": [
        "def remove_veiculos_alem_do_programado(df_relatorio):\n",
        "    '''Elimina veículos das listas, se a quantidade de veículos for maior que a quantidade programada.\n",
        "\n",
        "    :param df_relatorio: Dataframe com os dados da operação já com a lista de veículos únicos.\n",
        "    :return: Retorna a mesma lista com os N veículos programados por linha de acordo com a programação(Eliminando veículos \n",
        "    a mais que o programado como exemplo as substituíções).\n",
        "    '''\n",
        "    df_relatorio['N primeiros veic prog'] = np.empty((len(df_relatorio), 0)).tolist()\n",
        "\n",
        "    for indice, linha in df_relatorio.iterrows():\n",
        "        lista_atual = df_relatorio.loc[indice, 'Listas veiculos']\n",
        "        prog_veic_linha_atual = df_relatorio.loc[indice, 'Veíc.']\n",
        "        if isinstance(lista_atual, list):\n",
        "            lista_primeiros_n_programados = lista_atual[:int(prog_veic_linha_atual)]\n",
        "            df_relatorio.at[indice, 'N primeiros veic prog'] = lista_primeiros_n_programados\n",
        "        else:\n",
        "            df_relatorio.loc[indice, 'N primeiros veic prog'] = float('nan') \n",
        "\n",
        "    return df_relatorio"
      ],
      "metadata": {
        "id": "RlrisRLQwf_6"
      },
      "execution_count": null,
      "outputs": []
    },
    {
      "cell_type": "code",
      "source": [
        "def agrupa_empresas(df_relatorio):\n",
        "    '''Cria lista de listas dos veículos que operaram nas linhas, agrupadas por empresa.\n",
        "\n",
        "    :param df_relatorio: Dataframe com as listas de veículos nas linhas.\n",
        "    :return: Retorna um dataframe com lista de listas dos veículos que operaram nas linhas, agrupadas por empresa.\n",
        "    '''\n",
        "    df_agrupado = df_relatorio.groupby(['Data', 'Empresa'])['N primeiros veic prog'].apply(list).reset_index(name='Listas veiculos empresa')\n",
        "\n",
        "    return df_agrupado"
      ],
      "metadata": {
        "id": "2SWDm6LMxm9l"
      },
      "execution_count": null,
      "outputs": []
    },
    {
      "cell_type": "code",
      "source": [
        "def cria_relatorio_final_de_veiculos(df_relatorio):\n",
        "    '''Cria dataframe com a quantidade de veículos utilizados pelas empresas por data.\n",
        "\n",
        "    :param df_relatorio: Dataframe com as listas de listas dos veículos que operaram nas linhas.\n",
        "    :return: Retorna um dataframe com a quantidade de veículos utilizados pelas empresas por data.\n",
        "    '''\n",
        "    df_relatorio['Listas veiculos empresa unicos'] = np.empty((len(df_relatorio), 0)).tolist()\n",
        "    df_relatorio['Veiculos operando'] = '0'\n",
        "\n",
        "    lista_final = []\n",
        "    for indice, linha in df_relatorio.iterrows():\n",
        "            lista_atual = df_relatorio.loc[indice, 'Listas veiculos empresa']\n",
        "            lista_final = list(flatten(lista_atual))\n",
        "            lista_final = [valor for valor in lista_final if str(valor).isnumeric()]\n",
        "            lista_final = list(dict.fromkeys(lista_final))\n",
        "            df_relatorio.loc[indice, 'Listas veiculos empresa unicos'] = lista_final\n",
        "            df_relatorio.loc[indice, 'Veiculos operando'] = len(lista_final)\n",
        "\n",
        "    return df_relatorio"
      ],
      "metadata": {
        "id": "JpqLT8KLyVX2"
      },
      "execution_count": null,
      "outputs": []
    },
    {
      "cell_type": "code",
      "source": [
        "def soma_qtd_viagens_por_empresa(df_relatorio_linhas):\n",
        "    '''Cria o dataframe com a quantidade de viagens realizadas por empresa.\n",
        "\n",
        "    :param df_relatorio_linhas: Dataframe com os dados do arquivo resultado da análise por linhas.\n",
        "    :return: Retorna um dataframe com a quantidade de viagens realizadas por empresa.\n",
        "    '''\n",
        "    df_soma_viagens = df_relatorio_linhas.groupby(['Data', 'Empresa'])['Viagens realizadas'].agg('sum').reset_index(name='Viagens Realizadas')\n",
        "\n",
        "    return df_soma_viagens"
      ],
      "metadata": {
        "id": "cbWmWbqvzgWV"
      },
      "execution_count": null,
      "outputs": []
    },
    {
      "cell_type": "code",
      "source": [
        "def abre_arquivo_dados_por_linha(arquivo_excel):\n",
        "    '''Abre o arquivo excel gerado pela análise por linhas.\n",
        "\n",
        "    :param arquivo_excel: Caminho do arquivo excel com os dados resultado da análise por linhas.\n",
        "    :return: Retorna um dataframe com os dados.\n",
        "    '''\n",
        "    df_saida = pd.read_excel(arquivo_excel)\n",
        "\n",
        "    return df_saida"
      ],
      "metadata": {
        "id": "HGR4xYg4z5F4"
      },
      "execution_count": null,
      "outputs": []
    },
    {
      "cell_type": "code",
      "source": [
        "def funde_frota_e_viagens(df_frota, df_viagens):\n",
        "    '''Funde os dataframes com os dados da frota em operação e o de viagens realizadas por empresa e data.\n",
        "\n",
        "    :param df_frota: Dataframe com os dados de frota em operação.\n",
        "    :param df_viagens: Dataframe com os dados de viagens.\n",
        "    :return: Retorna os dataframes fundidos.\n",
        "    '''\n",
        "    df_total = pd.merge(df_frota, df_viagens,  how='left', left_on=['Data','Empresa'], right_on = ['Data','Empresa'])\n",
        "\n",
        "    return df_total"
      ],
      "metadata": {
        "id": "cPe3Jc8W0nEO"
      },
      "execution_count": null,
      "outputs": []
    },
    {
      "cell_type": "code",
      "source": [
        "def cria_relatorio_final(df_viag_frot, df_prog):\n",
        "    '''Cria relatório final com viagens e frotas programadas e realizadas por empresa.\n",
        "\n",
        "    :param df_viag_frot: Dataframe com viagens e frota realizadas.\n",
        "    :param df_prog: Dataframe com programação.\n",
        "    :return: Retorna o relatório final com viagens e frotas programadas e realizadas por empresa.\n",
        "    '''\n",
        "\n",
        "    df_prog['Viag.'] = df_prog['Viag.'].astype(float)\n",
        "    df_prog['Veíc.'] = df_prog['Veíc.'].astype(int)\n",
        "\n",
        "    df_viag_prog_por_emp = df_prog.groupby(['Data', 'Empresa'])['Viag.'].agg('sum').reset_index(name='Viagens programadas')\n",
        "    df_frot_prog_por_emp = df_prog.groupby(['Data', 'Empresa'])['Veíc.'].agg('sum').reset_index(name='Frota programada')\n",
        "\n",
        "    df_saida = pd.merge(df_viag_prog_por_emp, df_viag_frot,  how='left', left_on=['Data','Empresa'], right_on = ['Data','Empresa'])\n",
        "    df_saida = pd.merge(df_saida, df_frot_prog_por_emp,  how='left', left_on=['Data','Empresa'], right_on = ['Data','Empresa'])\n",
        "\n",
        "    return df_saida"
      ],
      "metadata": {
        "id": "P0D8Q15M1JpU"
      },
      "execution_count": null,
      "outputs": []
    },
    {
      "cell_type": "code",
      "source": [
        "def organiza_relatorio_final(df_relatorio):\n",
        "    '''Organiza as colunas do dataframe.\n",
        "\n",
        "    :param df_relatorio: Dataframe com o relatório final das empresas.\n",
        "    :return: Retorna o dataframe com a ordem das colunas organizadas.\n",
        "    '''\n",
        "    df_relatorio = df_relatorio[['Data', 'Empresa', 'Viagens programadas', 'Viagens Realizadas', 'Porcentagem de viagens', 'Frota programada',\n",
        "                                 'Veiculos operando', 'Porcentagem de veiculos']]\n",
        "    df_relatorio = df_relatorio.sort_values(['Data', 'Empresa'], ascending=[True, True])\n",
        "\n",
        "    return df_relatorio"
      ],
      "metadata": {
        "id": "LEOcR8d31rqg"
      },
      "execution_count": null,
      "outputs": []
    },
    {
      "cell_type": "markdown",
      "source": [
        "#Funções que realizam as análises por faixas horárias."
      ],
      "metadata": {
        "id": "pvkSMHeJ5OQL"
      }
    },
    {
      "cell_type": "code",
      "source": [
        "import pandas as pd\n",
        "import faixas_config as conf\n",
        "import glob\n",
        "from datetime import datetime\n",
        "from datetime import timedelta"
      ],
      "metadata": {
        "id": "XDOul37e2cMi"
      },
      "execution_count": null,
      "outputs": []
    },
    {
      "cell_type": "code",
      "source": [
        "def abre_arquivos_xlsx(pasta_dos_arquivos):\n",
        "    '''Cria um dataframe com os dados de arquivos XLSX.\n",
        "\n",
        "    :param pasta_dos_arquivos: Pasta que contêm os arquivos XLSXs com os dados.\n",
        "    :return: Retorna um dataframe com os arquivos XLSXs concatenados.\n",
        "    '''\n",
        "    all_files = glob.glob(pasta_dos_arquivos + \"/*.xlsx\")\n",
        "    li = []\n",
        "    for filename in all_files:\n",
        "        df = pd.read_excel(filename, index_col=None, header=0)\n",
        "        li.append(df)\n",
        "    frame = pd.concat(li, axis=0, ignore_index=True)\n",
        "\n",
        "    return frame"
      ],
      "metadata": {
        "id": "VB6dP-iR9qg9"
      },
      "execution_count": null,
      "outputs": []
    },
    {
      "cell_type": "code",
      "source": [
        "def conta_viagem_programada(linha):\n",
        "    '''Conta as viagens programadas.\n",
        "\n",
        "    :param linha: linhas com os dados das viagens.\n",
        "    :return: Retorna o valor informando 0 viagem, meia viagem ou viagem completa(0, 0.5, 1).\n",
        "    '''\n",
        "    if pd.isnull(linha['SAIDA TERMINAL']) and pd.notnull(linha['CHEGADA TERMINAL']):\n",
        "        valor = 0.5\n",
        "    elif pd.notnull(linha['SAIDA TERMINAL']) and pd.isnull(linha['CHEGADA TERMINAL']):\n",
        "        valor = 0.5\n",
        "    else:\n",
        "        valor = 1\n",
        "    return valor"
      ],
      "metadata": {
        "id": "DWFFByNR-4Tw"
      },
      "execution_count": null,
      "outputs": []
    },
    {
      "cell_type": "code",
      "source": [
        "def trata_saida_terminal_em_branco(df):\n",
        "    '''Testa se o dado da coluna SAIDA TERMINAL está vazio, caso positivo a função iguala ao valor da coluna SAIDA RETORNO.\n",
        "\n",
        "    :param df: Dataframe com as programações.\n",
        "    :return: O dataframe de entrada com a coluna SAIDA TERMINAL corrigida.\n",
        "    '''\n",
        "    df['SAIDA TERMINAL'].fillna(df['SAIDA RETORNO'], inplace=True)\n",
        "\n",
        "    return df"
      ],
      "metadata": {
        "id": "IQMtJiYMAKbR"
      },
      "execution_count": null,
      "outputs": []
    },
    {
      "cell_type": "code",
      "source": [
        "def trata_chegada_terminal_em_branco(df):\n",
        "    '''Testa se o dado da coluna CHEGADA TERMINAL está vazio, caso positivo a função iguala ao valor da coluna CHEGADA RETORNO.\n",
        "\n",
        "    :param df: Dataframe com as programações.\n",
        "    :return: O dataframe de entrada com a coluna CHEGADA TERMINAL corrigida.\n",
        "    '''\n",
        "    df['CHEGADA TERMINAL'].fillna(df['CHEGADA RETORNO'], inplace=True)\n",
        "\n",
        "    return df "
      ],
      "metadata": {
        "id": "V7ot-2lcEPEC"
      },
      "execution_count": null,
      "outputs": []
    },
    {
      "cell_type": "code",
      "source": [
        "def trata_virada_dia(df, opcao):\n",
        "    '''Trata a virada de dia (Hora igual ou acima de 24).\n",
        "    \n",
        "\n",
        "    :param df: Dataframe da programação já com as colunas de data e hora concatenadas.\n",
        "    :opcao: opção de coluna: st se refere a saída de terminal, cpr a chegada no ponto de retorno, spr a saída do ponto de retorno e ct a chegada no terminal.\n",
        "    :return: Retorna o dataframe já tratado.\n",
        "    '''\n",
        "\n",
        "    if opcao == 'st':\n",
        "        coluna = 'ST'\n",
        "    elif opcao == 'cpr':\n",
        "        coluna = 'CPR'\n",
        "    elif opcao == 'spr':\n",
        "        coluna = 'SPR'\n",
        "    elif opcao == 'ct':\n",
        "        coluna = 'CT'\n",
        "\n",
        "    for index, row in df.iterrows():\n",
        "        if str(row[coluna])[11:13] == '24':\n",
        "            hora_temp ='00'\n",
        "            data_temp = datetime.strptime(row[coluna][0:10], '%Y-%m-%d')\n",
        "            data_temp = data_temp + timedelta(days=1)\n",
        "            df.at[index,coluna] = str(data_temp)[:10] + ' ' + hora_temp + row[coluna][13:]\n",
        "        elif str(row[coluna])[11:13] == '25':\n",
        "            hora_temp ='01'\n",
        "            data_temp = datetime.strptime(row[coluna][0:10], '%Y-%m-%d')\n",
        "            data_temp = data_temp + timedelta(days=1)\n",
        "            df.at[index,coluna] = str(data_temp)[:10] + ' ' + hora_temp + row[coluna][13:]\n",
        "        elif str(row[coluna])[11:13] == '26':\n",
        "            hora_temp ='02'\n",
        "            data_temp = datetime.strptime(row[coluna][0:10], '%Y-%m-%d')\n",
        "            data_temp = data_temp + timedelta(days=1)\n",
        "            df.at[index,coluna] = str(data_temp)[:10] + ' ' + hora_temp + row[coluna][13:]            \n",
        "        elif str(row[coluna])[11:13] == '27':\n",
        "            hora_temp ='03'\n",
        "            data_temp = datetime.strptime(row[coluna][0:10], '%Y-%m-%d')\n",
        "            data_temp = data_temp + timedelta(days=1)\n",
        "            df.at[index,coluna] = str(data_temp)[:10] + ' ' + hora_temp + row[coluna][13:]\n",
        "        elif str(row[coluna])[11:13] == '28':\n",
        "            hora_temp ='04'\n",
        "            data_temp = datetime.strptime(row[coluna][0:10], '%Y-%m-%d')\n",
        "            data_temp = data_temp + timedelta(days=1)\n",
        "            df.at[index,coluna] = str(data_temp)[:10] + ' ' + hora_temp + row[coluna][13:]\n",
        "        elif str(row[coluna])[11:13] == '29':\n",
        "            hora_temp ='05'\n",
        "            data_temp = datetime.strptime(row[coluna][0:10], '%Y-%m-%d')\n",
        "            data_temp = data_temp + timedelta(days=1)\n",
        "            df.at[index,coluna] = str(data_temp)[:10] + ' ' + hora_temp + row[coluna][13:]\n",
        "        elif str(row[coluna])[11:13] == '30':\n",
        "            hora_temp ='06'\n",
        "            data_temp = datetime.strptime(row[coluna][0:10], '%Y-%m-%d')\n",
        "            data_temp = data_temp + timedelta(days=1)\n",
        "            df.at[index,coluna] = str(data_temp)[:10] + ' ' + hora_temp + row[coluna][13:]\n",
        "\n",
        "    return df"
      ],
      "metadata": {
        "id": "0YrrcfJZEk9X"
      },
      "execution_count": null,
      "outputs": []
    },
    {
      "cell_type": "code",
      "source": [
        "def cria_coluna_horarios(df, opcao):\n",
        "    '''Cria uma nova coluna formatada em datetime.\n",
        "\n",
        "    :param df: Dataframe com os dados da programação.\n",
        "    :param opcao: String com a opção de coluna. st se refere a saída de terminal, cpr a chegada no ponto de retorno,\n",
        "     spr a saída do ponto de retorno e ct a chegada no terminal.\n",
        "     :return: Retorna o dataframe com uma nova coluna formatada em datetime.\n",
        "    '''\n",
        "    if opcao == 'st':\n",
        "        df['ST'] = df['data'] + ' ' + df['SAIDA TERMINAL']\n",
        "        df = trata_virada_dia(df, opcao)\n",
        "        df['ST'] =  pd.to_datetime(df['ST'], format='%Y-%m-%d %H:%M')\n",
        "\n",
        "    elif opcao == 'cpr':\n",
        "        df['CPR'] = df['data'] + ' ' + df['CHEGADA RETORNO']\n",
        "        df = trata_virada_dia(df, opcao)\n",
        "        df['CPR'] =  pd.to_datetime(df['CPR'], format='%Y-%m-%d %H:%M')\n",
        "\n",
        "    elif opcao == 'spr':\n",
        "        df['SPR'] = df['data'] + ' ' + df['SAIDA RETORNO']\n",
        "        df = trata_virada_dia(df, opcao)\n",
        "        df['SPR'] =  pd.to_datetime(df['SPR'], format='%Y-%m-%d %H:%M') \n",
        "\n",
        "    elif opcao == 'ct':\n",
        "        df['CT'] = df['data'] + ' ' + df['CHEGADA TERMINAL']\n",
        "        df = trata_virada_dia(df, opcao)\n",
        "        df['CT'] =  pd.to_datetime(df['CT'], format='%Y-%m-%d %H:%M')      \n",
        "\n",
        "    return df"
      ],
      "metadata": {
        "id": "ylwKMIEoFWA8"
      },
      "execution_count": null,
      "outputs": []
    },
    {
      "cell_type": "code",
      "source": [
        "def cria_coluna_tempo_viagem_qh(df):\n",
        "    '''Calcula o tempo de viagem programado.\n",
        "\n",
        "    :param df: Dataframe da programação já com as colunas dos horários formatadas.\n",
        "    :return: Retorna o tempo de viagem programado em uma nova coluna.\n",
        "    '''\n",
        "    df['TEMPO DE VIAGEM'] = df['CT'] - df['ST']\n",
        "    for index, row in df.iterrows():\n",
        "        df.at[index,'TEMPO DE VIAGEM'] = (row['TEMPO DE VIAGEM'].seconds//60)\n",
        "\n",
        "    return df"
      ],
      "metadata": {
        "id": "faPGAwUiopIC"
      },
      "execution_count": null,
      "outputs": []
    },
    {
      "cell_type": "code",
      "source": [
        "def cria_faixa_horaria_programacao(df):\n",
        "    '''Calcula as viagens programadas por faixas horárias.\n",
        "\n",
        "    :param df: Dataframe da programação.\n",
        "    :return: Retorna o mesmo com uma coluna com as viagens programadas por faixas horárias.\n",
        "    ''' \n",
        "    df['faixa_horaria'] = pd.to_datetime(df['ST']).dt.strftime('%H')\n",
        "    \n",
        "    return df"
      ],
      "metadata": {
        "id": "kdtuLSPEoqmy"
      },
      "execution_count": null,
      "outputs": []
    },
    {
      "cell_type": "code",
      "source": [
        "def cria_qtd_viagens_por_faixa(df):\n",
        "    '''Calcula a quantidade de viagens programadas por faixa horária.\n",
        "\n",
        "    :param df: Dataframe da programação.\n",
        "    :return: Retorna um novo com a quantidade de viagens programadas por faixa horária.\n",
        "    '''\n",
        "    df_qtd = df.groupby(['data', 'Empresa', 'Linha', 'faixa_horaria'])\\\n",
        "    ['contador_viagens'].sum().reset_index(name='Viagens programadas')\n",
        "    \n",
        "    return df_qtd "
      ],
      "metadata": {
        "id": "Zm2WECoJo-Lm"
      },
      "execution_count": null,
      "outputs": []
    },
    {
      "cell_type": "code",
      "source": [
        "def troca_formato_da_date(df):\n",
        "    '''Converte o formato de data.\n",
        "\n",
        "    :param df: Dataframe.\n",
        "    :return: Dataframe com uma nova coluna de data no formatada de yyyy-mm-dd para dd/mm/yyyy.\n",
        "    '''\n",
        "    df['data_formatada'] = pd.to_datetime(df['data'], format='%Y/%m/%d')\n",
        "    df['data_formatada'] = df['data_formatada'].dt.strftime('%d/%m/%Y')\n",
        "    \n",
        "    return df"
      ],
      "metadata": {
        "id": "0lAM3m59pLp4"
      },
      "execution_count": null,
      "outputs": []
    },
    {
      "cell_type": "code",
      "source": [
        "def cria_media_entre_faixas_horarias_qh(df):\n",
        "    '''Calcula as médias das programações entre as faixas horárias.\n",
        "\n",
        "    :param df: Dataframe da programação.\n",
        "    :return: retorna um dataframe com as médias das programações entre as faixas horárias.\n",
        "    '''\n",
        "    df_medias = df.groupby(['data', 'Empresa', 'Linha', 'faixa_horaria'])['TEMPO DE VIAGEM'].mean().reset_index(name='Medias dos tempos programados')\n",
        "    df_medias['Medias dos tempos programados'] = df_medias['Medias dos tempos programados'].round(2)\n",
        "\n",
        "    return df_medias"
      ],
      "metadata": {
        "id": "gl-GRs3uplHi"
      },
      "execution_count": null,
      "outputs": []
    },
    {
      "cell_type": "code",
      "source": [
        "def cria_qtd_veiculos_por_faixa_qh(df):\n",
        "    '''Calcula a quantidade de veículos programados por faixa horária.\n",
        "\n",
        "    :param df: Dataframe da programação.\n",
        "    :return: Retorna um novo dataframe com a quantidade de veículos programados por faixa horária.\n",
        "    '''\n",
        "    df_qtd = df.groupby(['data', 'Empresa', 'Linha', 'faixa_horaria'])\\\n",
        "    ['POSICAO'].nunique().reset_index(name='Veículos programados')\n",
        "    \n",
        "    return df_qtd  "
      ],
      "metadata": {
        "id": "eRbtwh8np3Gt"
      },
      "execution_count": null,
      "outputs": []
    },
    {
      "cell_type": "code",
      "source": [
        "def cria_dataframe_final_da_programacao(df_frota, df_viagens, df_tempos):\n",
        "    '''Cria um dataframe com as programações de veículos e viagens por faixa horária bem como os tempos médios de viagem por faixa.\n",
        "\n",
        "    :param df_frota: Dataframe com a frota programada por faixa horária.\n",
        "    :param df_viagens: Dataframe com as viagens programadas por faixa horária.\n",
        "    :param df_tempos: Dataframe com os tempos de viagens programados por faixa hoŕaria.\n",
        "    :return: Retorna um dataframe com as programações de veículos e viagens por faixa horária bem como os tempos médios de viagem por faixa.\n",
        "    '''\n",
        "    df_frota['Linha'] = df_frota['Linha'].astype('str')\n",
        "    df_combinado = pd.merge(df_frota, df_viagens,  how='left', left_on=['data', 'Empresa', 'Linha', 'faixa_horaria'],\n",
        "                        right_on = ['data', 'Empresa', 'Linha', 'faixa_horaria'])\n",
        "    \n",
        "    df_tempos['Linha'] = df_tempos['Linha'].astype('str')\n",
        "    df_combinado = pd.merge(df_combinado, df_tempos,  how='left', left_on=['data', 'Empresa', 'Linha', 'faixa_horaria'],\n",
        "                        right_on = ['data', 'Empresa', 'Linha', 'faixa_horaria'])\n",
        "    \n",
        "    return df_combinado"
      ],
      "metadata": {
        "id": "tRvJYWGjrBTL"
      },
      "execution_count": null,
      "outputs": []
    },
    {
      "cell_type": "code",
      "source": [
        "def abre_arquivos_csv(pasta_dos_csvs):\n",
        "    '''Cria um dataframe com os arquivos csvs concatenados.\n",
        "\n",
        "    :param pasta_dos_csvs: Endereço da pasta que contêm os arquivos csvs com os dados.\n",
        "    :return: Retorna um dataframe com os arquivos csvs concatenados.\n",
        "    '''\n",
        "    all_files = glob.glob(pasta_dos_csvs + \"/*.csv\")\n",
        "    li = []\n",
        "    for filename in all_files:\n",
        "        df = pd.read_csv(filename, index_col=None, header=0)\n",
        "        li.append(df)\n",
        "    frame = pd.concat(li, axis=0, ignore_index=True)\n",
        "\n",
        "    return frame"
      ],
      "metadata": {
        "id": "CpCyawl1rxJj"
      },
      "execution_count": null,
      "outputs": []
    },
    {
      "cell_type": "code",
      "source": [
        "def cria_coluna_tempo_viagem_gps(df):\n",
        "    '''Cria uma coluna contendo o tempo total de viagem.\n",
        "\n",
        "    :param df: Dataframe com os dados das viagens.\n",
        "    :return: Retorna o dataframe com uma coluna contendo o tempo total de viagem.\n",
        "    '''\n",
        "    df['TEMPO TOTAL DE VIAGEM'] = df['Tempo Ida Real'] + df['Tempo Vol Real']\n",
        "\n",
        "    return df"
      ],
      "metadata": {
        "id": "Bi0n5RDjuPZR"
      },
      "execution_count": null,
      "outputs": []
    },
    {
      "cell_type": "code",
      "source": [
        "def cria_faixa_horaria_gps(df):\n",
        "    '''Cria uma coluna com as faixas horárias das viagens realizadas.\n",
        "\n",
        "    :param df: Dataframe da operação.\n",
        "    :return: Retorna o mesmo com uma coluna com as faixas horárias das viagens realizadas.\n",
        "    '''\n",
        "    df_temp = df.copy()\n",
        "    df_temp['Sai Term Real'].fillna(df_temp['Saida Pt Ret Real'], inplace=True)\n",
        "    df['faixa_horaria'] = pd.to_datetime(df_temp['Sai Term Real'],errors='coerce').dt.strftime('%H')\n",
        "    \n",
        "    return df"
      ],
      "metadata": {
        "id": "4OYvKMskwfuz"
      },
      "execution_count": null,
      "outputs": []
    },
    {
      "cell_type": "code",
      "source": [
        "def cria_coluna_tempo_viagem_gps(df):\n",
        "    '''Cria uma coluna contendo o tempo total de viagem.\n",
        "\n",
        "    :param df: Dataframe com os dados das viagens.\n",
        "    :return: Retorna com uma coluna contendo o tempo total de viagem.\n",
        "    '''\n",
        "    df['TEMPO TOTAL DE VIAGEM'] = df[[\"Tempo Ida Real\", \"Tempo Vol Real\"]].sum(axis=1)\n",
        "\n",
        "    return df"
      ],
      "metadata": {
        "id": "o9m4d4zjxXn5"
      },
      "execution_count": null,
      "outputs": []
    },
    {
      "cell_type": "code",
      "source": [
        "def cria_qtd_viagens_por_faixa(df):\n",
        "    '''Calcula a quantidade de viagens realizadas por faixa horária.\n",
        "\n",
        "    :param df: Dataframe das viagens.\n",
        "    :return: Retorna um novo com a quantidade de viagens realizadas por faixa horária.\n",
        "    '''\n",
        "    df_qtd = df.groupby(['Data', 'Empresa', 'Linha', 'faixa_horaria'])\\\n",
        "    ['contador_viagens'].sum().reset_index(name='Viagens realizadas')\n",
        "    \n",
        "    return df_qtd   "
      ],
      "metadata": {
        "id": "TnPPibXlxnbN"
      },
      "execution_count": null,
      "outputs": []
    },
    {
      "cell_type": "code",
      "source": [
        "def cria_media_entre_faixas_horarias_gps(df):\n",
        "    '''Calcula as médias dos tempos de viagens entre as faixas horárias.\n",
        "\n",
        "    :param df: Dataframe com os dados das viagens.\n",
        "    :return: retorna um dataframe com as médias dos tempos de viagens entre as faixas horárias.\n",
        "    '''\n",
        "    df_medias = df.groupby(['Data', 'Empresa', 'Linha', 'faixa_horaria'])\\\n",
        "        ['TEMPO TOTAL DE VIAGEM'].mean().reset_index(name='Medias dos tempos de viagens realizadas')\n",
        "    df_medias['Medias dos tempos de viagens realizadas'] = df_medias['Medias dos tempos de viagens realizadas'].round(2)\n",
        "    \n",
        "    return df_medias"
      ],
      "metadata": {
        "id": "PRA7Hz65yIkZ"
      },
      "execution_count": null,
      "outputs": []
    },
    {
      "cell_type": "code",
      "source": [
        "def cria_qtd_veiculos_por_faixa_gps(df):\n",
        "    '''Calcula a quantidade de veículos por faixa horária.\n",
        "    :param df: Dataframe com os dados das viagens.\n",
        "    :return: Retorna um novo dataframe com a quantidade de veículos por faixa horária.\n",
        "    '''\n",
        "    df_temp = df.copy()\n",
        "    df_temp['Veiculo Ida'].fillna(df_temp['Veiculo Vol'], inplace=True)\n",
        "    df_temp['Veiculo Ida'] = pd.to_numeric(df_temp['Veiculo Ida'], errors='coerce')\n",
        "    \n",
        "    df_qtd = df_temp.groupby(['Data', 'Empresa', 'Linha', 'faixa_horaria'])\\\n",
        "    ['Veiculo Ida'].nunique().reset_index(name='Veículos em operação')\n",
        "    \n",
        "    return df_qtd "
      ],
      "metadata": {
        "id": "4W674dm2ycv4"
      },
      "execution_count": null,
      "outputs": []
    },
    {
      "cell_type": "code",
      "source": [
        "def cria_dataframe_final_da_operacao(df_frota_gps, df_viagens_gps, df_tempos_gps):\n",
        "    '''Cria um dataframe com as quantidades de veículos e viagens da operação por faixa horária bem como os tempos médios de viagem por faixa.\n",
        "\n",
        "    :param df_frota_gps: Dataframe com a frota realizada por faixa horária.\n",
        "    :param df_viagens_gps: Dataframe com a quantidade de viagens realizadas por faixa horária.\n",
        "    :param df_tempos_gps: Dataframe com os tempos de viagens por faixa horária.\n",
        "    :return: retorna um dataframe com as quantidades de veículos e viagens da operação por faixa horária bem como os tempos médios de viagem por faixa.\n",
        "    '''\n",
        "    df_combinado = pd.merge(df_frota_gps, df_viagens_gps,  how='left', left_on=['Data', 'Empresa', 'Linha', 'faixa_horaria'],\n",
        "                        right_on = ['Data', 'Empresa', 'Linha', 'faixa_horaria'])\n",
        "    \n",
        "    df_combinado = pd.merge(df_combinado, df_tempos_gps,  how='left', left_on=['Data', 'Empresa', 'Linha', 'faixa_horaria'],\n",
        "                        right_on = ['Data', 'Empresa', 'Linha', 'faixa_horaria'])\n",
        "    \n",
        "    return df_combinado"
      ],
      "metadata": {
        "id": "t64E42OnyxLN"
      },
      "execution_count": null,
      "outputs": []
    },
    {
      "cell_type": "code",
      "source": [
        "def junta_dados_programacao_e_operacao(df_programacao, df_operacao):\n",
        "    '''Cria um dataframe resultado da fusão dos dados da programação com os da operação.\n",
        "\n",
        "    :param df_programacao: Dataframe com os dados da programação.\n",
        "    :param df_operacao: Dataframe com os dados da operação.\n",
        "    :return: retorna um dataframe com a fusão dos dois anteriores.\n",
        "    '''\n",
        "    df_merge = pd.merge(df_programacao, df_operacao,  how='left', left_on=['data_formatada', 'Empresa', 'Linha', 'faixa_horaria'],\n",
        "                        right_on = ['Data', 'Empresa', 'Linha', 'faixa_horaria'])\n",
        "    \n",
        "    return df_merge"
      ],
      "metadata": {
        "id": "LC5HZlY_zYZ5"
      },
      "execution_count": null,
      "outputs": []
    }
  ]
}